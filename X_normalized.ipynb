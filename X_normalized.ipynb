{
 "cells": [
  {
   "cell_type": "code",
   "execution_count": 1,
   "id": "ecfce604-78dd-484b-9030-340e21eae341",
   "metadata": {},
   "outputs": [],
   "source": [
    "import numpy as np"
   ]
  },
  {
   "cell_type": "code",
   "execution_count": 18,
   "id": "21820f75-a5b5-4e22-ac5a-b3519b9bce23",
   "metadata": {},
   "outputs": [
    {
     "data": {
      "text/plain": [
       "array([[ 0.88506304,  1.31391834, -0.98788293,  0.61999274,  1.99997994],\n",
       "       [ 0.92171909,  1.79740416,  0.8523848 ,  0.22049277,  0.63455021],\n",
       "       [ 0.28116995,  1.40848485,  1.08892464,  0.16462563, -0.27949365],\n",
       "       [-1.78848115,  1.71618872,  0.25619689, -0.42418618,  0.38076244],\n",
       "       [ 1.67523956, -0.66236815,  0.77580166, -0.38772993, -1.21919529]])"
      ]
     },
     "execution_count": 18,
     "metadata": {},
     "output_type": "execute_result"
    }
   ],
   "source": [
    "X = np.random.randn(5, 5)\n",
    "X"
   ]
  },
  {
   "cell_type": "code",
   "execution_count": 19,
   "id": "5514fc11-6967-4300-9dfb-81b7e07adb81",
   "metadata": {},
   "outputs": [],
   "source": [
    "xMean = X.mean()"
   ]
  },
  {
   "cell_type": "code",
   "execution_count": 20,
   "id": "5be5bd1a-8801-4628-a976-6e2204751862",
   "metadata": {},
   "outputs": [],
   "source": [
    "xStd= X.std()"
   ]
  },
  {
   "cell_type": "code",
   "execution_count": 21,
   "id": "b87a42e2-b0ef-4750-85c6-5cf3f4984203",
   "metadata": {},
   "outputs": [],
   "source": [
    "xNormalized = (X-xMean)/xStd"
   ]
  },
  {
   "cell_type": "code",
   "execution_count": 22,
   "id": "993a1fc2-292f-4ec4-b284-57cb64af4d1d",
   "metadata": {},
   "outputs": [
    {
     "data": {
      "text/plain": [
       "array([[ 0.44953986,  0.8924033 , -1.48458401,  0.17581131,  1.60087441],\n",
       "       [ 0.48739325,  1.3916817 ,  0.41579422, -0.23673793,  0.19084429],\n",
       "       [-0.17407879,  0.99005872,  0.6600604 , -0.29442991, -0.75305591],\n",
       "       [-2.31133298,  1.30781343, -0.19986757, -0.90247467, -0.07123321],\n",
       "       [ 1.26552671, -1.14843661,  0.33670957, -0.86482762, -1.72345196]])"
      ]
     },
     "execution_count": 22,
     "metadata": {},
     "output_type": "execute_result"
    }
   ],
   "source": [
    "xNormalized"
   ]
  },
  {
   "cell_type": "code",
   "execution_count": null,
   "id": "9d59086a-3aeb-44b5-aabe-d44afac5029e",
   "metadata": {},
   "outputs": [],
   "source": []
  }
 ],
 "metadata": {
  "kernelspec": {
   "display_name": "Python [conda env:base] *",
   "language": "python",
   "name": "conda-base-py"
  },
  "language_info": {
   "codemirror_mode": {
    "name": "ipython",
    "version": 3
   },
   "file_extension": ".py",
   "mimetype": "text/x-python",
   "name": "python",
   "nbconvert_exporter": "python",
   "pygments_lexer": "ipython3",
   "version": "3.13.5"
  }
 },
 "nbformat": 4,
 "nbformat_minor": 5
}
